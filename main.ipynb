{
 "cells": [
  {
   "cell_type": "code",
   "execution_count": null,
   "metadata": {},
   "outputs": [],
   "source": [
    "import smtplib\n",
    "import speech_recognition as sr\n",
    "import pyttsx3\n",
    "from email.message import EmailMessage\n",
    "import pyaudio"
   ]
  },
  {
   "cell_type": "code",
   "execution_count": null,
   "metadata": {},
   "outputs": [],
   "source": [
    "listner = sr.Recognizer()"
   ]
  },
  {
   "cell_type": "code",
   "execution_count": null,
   "metadata": {},
   "outputs": [],
   "source": [
    "enginee = pyttsx3.init()"
   ]
  },
  {
   "cell_type": "code",
   "execution_count": null,
   "metadata": {},
   "outputs": [],
   "source": [
    "def talk(text):\n",
    "    enginee.say(text)\n",
    "    enginee.runAndWait()"
   ]
  },
  {
   "cell_type": "code",
   "execution_count": null,
   "metadata": {},
   "outputs": [],
   "source": [
    "def get_info():\n",
    "    with sr.Microphone() as source:\n",
    "        listner.adjust_for_ambient_noise(source)\n",
    "        print(\"Listening...\")\n",
    "        voice = listner.listen(source,timeout = 5)\n",
    "        info = listner.recognize_google(voice)\n",
    "        print(info)\n",
    "        return info.lower()\n",
    "    \n",
    "#get_info()"
   ]
  },
  {
   "cell_type": "code",
   "execution_count": null,
   "metadata": {},
   "outputs": [],
   "source": [
    "def send_email(receiver,subject,message):\n",
    "    server = smtplib.SMTP('smtp.gmail.com', 587)\n",
    "    server.starttls()\n",
    "    server.login('\"email id\"','\"password\"')\n",
    "    email = EmailMessage()\n",
    "    email['From'] = '\"Email\"'\n",
    "    email['To'] = receiver\n",
    "    email['Subject'] = subject\n",
    "    email.set_content(message)\n",
    "    server.send_message(email)"
   ]
  },
  {
   "cell_type": "code",
   "execution_count": null,
   "metadata": {},
   "outputs": [],
   "source": [
    "email_list ={'stuart' : 'smstuart328@gmail.com',\n",
    "             's' : 'sayandeepmaity328@gmail.com',\n",
    "             'romak' : 'romakdas@gmail.com',\n",
    "             'tilak' : 'tiloksaha60@gmail.com',\n",
    "             'suraj' : 'surajmondal6111998@gmail.com'\n",
    "            }"
   ]
  },
  {
   "cell_type": "code",
   "execution_count": null,
   "metadata": {},
   "outputs": [],
   "source": [
    "def get_email_info():\n",
    "    talk(\"To whom you want to send Email\")\n",
    "    name = get_info()\n",
    "    receiver = email_list[name]\n",
    "    talk(\"What is the subject of your Email\")\n",
    "    subject = get_info()\n",
    "    talk(\"What is the message of your Email\")\n",
    "    message = get_info()\n",
    "    send_email(receiver,subject,message)\n",
    "    talk('Your Email is send Do you want to send more email?')\n",
    "    new = get_info()\n",
    "    if (new == 'yes'):\n",
    "        get_email_info()\n",
    "    else:\n",
    "        talk(\"Thank you for using the service!!!\")\n",
    "    \n",
    "    "
   ]
  },
  {
   "cell_type": "code",
   "execution_count": null,
   "metadata": {},
   "outputs": [],
   "source": [
    "def main():\n",
    "    get_email_info()"
   ]
  },
  {
   "cell_type": "code",
   "execution_count": null,
   "metadata": {},
   "outputs": [],
   "source": [
    "main()"
   ]
  },
  {
   "cell_type": "code",
   "execution_count": null,
   "metadata": {},
   "outputs": [],
   "source": []
  }
 ],
 "metadata": {
  "kernelspec": {
   "display_name": "Python 3",
   "language": "python",
   "name": "python3"
  },
  "language_info": {
   "codemirror_mode": {
    "name": "ipython",
    "version": 3
   },
   "file_extension": ".py",
   "mimetype": "text/x-python",
   "name": "python",
   "nbconvert_exporter": "python",
   "pygments_lexer": "ipython3",
   "version": "3.8.5"
  }
 },
 "nbformat": 4,
 "nbformat_minor": 4
}
